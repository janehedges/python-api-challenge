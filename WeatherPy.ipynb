{
 "cells": [
  {
   "cell_type": "markdown",
   "metadata": {},
   "source": [
    "# WeatherPy\n",
    "\n",
    "---\n",
    "\n",
    "## Starter Code to Generate Random Geographic Coordinates and a List of Cities"
   ]
  },
  {
   "cell_type": "code",
   "execution_count": 1,
   "metadata": {
    "scrolled": true
   },
   "outputs": [],
   "source": [
    "# Dependencies and Setup\n",
    "import matplotlib.pyplot as plt\n",
    "import pandas as pd\n",
    "import numpy as np\n",
    "import requests\n",
    "import time\n",
    "from scipy.stats import linregress\n",
    "\n",
    "# Impor the OpenWeatherMap API key\n",
    "from api_keys import weather_api_key\n",
    "\n",
    "# Import citipy to determine the cities based on latitude and longitude\n",
    "from citipy import citipy"
   ]
  },
  {
   "cell_type": "markdown",
   "metadata": {},
   "source": [
    "### Generate the Cities List by Using the `citipy` Library"
   ]
  },
  {
   "cell_type": "code",
   "execution_count": 2,
   "metadata": {},
   "outputs": [
    {
     "name": "stdout",
     "output_type": "stream",
     "text": [
      "Number of cities in the list: 635\n"
     ]
    }
   ],
   "source": [
    "# Empty list for holding the latitude and longitude combinations\n",
    "lat_lngs = []\n",
    "\n",
    "# Empty list for holding the cities names\n",
    "cities = []\n",
    "\n",
    "# Range of latitudes and longitudes\n",
    "lat_range = (-90, 90)\n",
    "lng_range = (-180, 180)\n",
    "\n",
    "# Create a set of random lat and lng combinations\n",
    "lats = np.random.uniform(lat_range[0], lat_range[1], size=1500)\n",
    "lngs = np.random.uniform(lng_range[0], lng_range[1], size=1500)\n",
    "lat_lngs = zip(lats, lngs)\n",
    "\n",
    "# Identify nearest city for each lat, lng combination\n",
    "for lat_lng in lat_lngs:\n",
    "    city = citipy.nearest_city(lat_lng[0], lat_lng[1]).city_name\n",
    "\n",
    "    # If the city is unique, then add it to a our cities list\n",
    "    if city not in cities:\n",
    "        cities.append(city)\n",
    "\n",
    "# Print the city count to confirm sufficient count\n",
    "print(f\"Number of cities in the list: {len(cities)}\")"
   ]
  },
  {
   "cell_type": "markdown",
   "metadata": {},
   "source": [
    "---"
   ]
  },
  {
   "cell_type": "markdown",
   "metadata": {},
   "source": [
    "## Requirement 1: Create Plots to Showcase the Relationship Between Weather Variables and Latitude\n",
    "\n",
    "### Use the OpenWeatherMap API to retrieve weather data from the cities list generated in the started code"
   ]
  },
  {
   "cell_type": "code",
   "execution_count": null,
   "metadata": {},
   "outputs": [
    {
     "name": "stdout",
     "output_type": "stream",
     "text": [
      "Beginning Data Retrieval     \n",
      "-----------------------------\n",
      "Processing Record 1 of Set 1 | waitangi\n",
      "City not found. Skipping...\n",
      "Processing Record 2 of Set 1 | grytviken\n",
      "City not found. Skipping...\n",
      "Processing Record 3 of Set 1 | port-aux-francais\n",
      "City not found. Skipping...\n",
      "Processing Record 4 of Set 1 | talnakh\n",
      "City not found. Skipping...\n",
      "Processing Record 5 of Set 1 | papatowai\n",
      "City not found. Skipping...\n",
      "Processing Record 6 of Set 1 | crixas\n",
      "City not found. Skipping...\n",
      "Processing Record 7 of Set 1 | bilibino\n",
      "City not found. Skipping...\n",
      "Processing Record 8 of Set 1 | tatarsk\n",
      "City not found. Skipping...\n",
      "Processing Record 9 of Set 1 | mana\n",
      "City not found. Skipping...\n",
      "Processing Record 10 of Set 1 | ushuaia\n",
      "City not found. Skipping...\n",
      "Processing Record 11 of Set 1 | bambanglipuro\n",
      "City not found. Skipping...\n",
      "Processing Record 12 of Set 1 | port mathurin\n",
      "City not found. Skipping...\n",
      "Processing Record 13 of Set 1 | udachny\n",
      "City not found. Skipping...\n",
      "Processing Record 14 of Set 1 | edinburgh of the seven seas\n",
      "City not found. Skipping...\n",
      "Processing Record 15 of Set 1 | mabaruma\n",
      "City not found. Skipping...\n",
      "Processing Record 16 of Set 1 | santa lucia\n",
      "City not found. Skipping...\n",
      "Processing Record 17 of Set 1 | selfoss\n",
      "City not found. Skipping...\n",
      "Processing Record 18 of Set 1 | adrar\n",
      "City not found. Skipping...\n",
      "Processing Record 19 of Set 1 | shizunai-furukawacho\n",
      "City not found. Skipping...\n",
      "Processing Record 20 of Set 1 | praskoveya\n",
      "City not found. Skipping...\n",
      "Processing Record 21 of Set 1 | chichiriviche\n",
      "City not found. Skipping...\n",
      "Processing Record 22 of Set 1 | bethel\n",
      "City not found. Skipping...\n",
      "Processing Record 23 of Set 1 | stanley\n",
      "City not found. Skipping...\n",
      "Processing Record 24 of Set 1 | bredasdorp\n",
      "City not found. Skipping...\n",
      "Processing Record 25 of Set 1 | wenshan city\n",
      "City not found. Skipping...\n",
      "Processing Record 26 of Set 1 | atafu village\n",
      "City not found. Skipping...\n",
      "Processing Record 27 of Set 1 | port alfred\n",
      "City not found. Skipping...\n",
      "Processing Record 28 of Set 1 | soio\n",
      "City not found. Skipping...\n",
      "Processing Record 29 of Set 1 | baise city\n",
      "City not found. Skipping...\n",
      "Processing Record 30 of Set 1 | kushuhum\n",
      "City not found. Skipping...\n",
      "Processing Record 31 of Set 1 | kudahuvadhoo\n",
      "City not found. Skipping...\n",
      "Processing Record 32 of Set 1 | blackmans bay\n",
      "City not found. Skipping...\n",
      "Processing Record 33 of Set 1 | puerto san carlos\n",
      "City not found. Skipping...\n",
      "Processing Record 34 of Set 1 | ancud\n",
      "City not found. Skipping...\n",
      "Processing Record 35 of Set 1 | adamstown\n",
      "City not found. Skipping...\n",
      "Processing Record 36 of Set 1 | inga\n",
      "City not found. Skipping...\n",
      "Processing Record 37 of Set 1 | puerto ayora\n",
      "City not found. Skipping...\n",
      "Processing Record 38 of Set 1 | taiohae\n",
      "City not found. Skipping...\n",
      "Processing Record 39 of Set 1 | hithadhoo\n",
      "City not found. Skipping...\n",
      "Processing Record 40 of Set 1 | lompoc\n",
      "City not found. Skipping...\n",
      "Processing Record 41 of Set 1 | east london\n",
      "City not found. Skipping...\n",
      "Processing Record 42 of Set 1 | tiksi\n",
      "City not found. Skipping...\n",
      "Processing Record 43 of Set 1 | oum hadjer\n",
      "City not found. Skipping...\n",
      "Processing Record 44 of Set 1 | sanya\n",
      "City not found. Skipping...\n",
      "Processing Record 45 of Set 1 | puerto natales\n",
      "City not found. Skipping...\n",
      "Processing Record 46 of Set 1 | praia da vitoria\n",
      "City not found. Skipping...\n",
      "Processing Record 47 of Set 1 | devinuwara\n",
      "City not found. Skipping...\n",
      "Processing Record 48 of Set 1 | palmer\n",
      "City not found. Skipping...\n",
      "Processing Record 49 of Set 1 | tazovsky\n",
      "City not found. Skipping...\n",
      "Processing Record 50 of Set 1 | margaret river\n",
      "City not found. Skipping...\n",
      "Processing Record 0 of Set 2 | sao vicente\n",
      "City not found. Skipping...\n",
      "Processing Record 1 of Set 2 | saipan\n",
      "City not found. Skipping...\n",
      "Processing Record 2 of Set 2 | namibe\n",
      "City not found. Skipping...\n",
      "Processing Record 3 of Set 2 | hobyo\n",
      "City not found. Skipping...\n",
      "Processing Record 4 of Set 2 | sadjoavato\n",
      "City not found. Skipping...\n",
      "Processing Record 5 of Set 2 | riposto\n",
      "City not found. Skipping...\n",
      "Processing Record 6 of Set 2 | khandyga\n",
      "City not found. Skipping...\n",
      "Processing Record 7 of Set 2 | oakdale\n",
      "City not found. Skipping...\n",
      "Processing Record 8 of Set 2 | albany\n",
      "City not found. Skipping...\n",
      "Processing Record 9 of Set 2 | yellowknife\n",
      "City not found. Skipping...\n",
      "Processing Record 10 of Set 2 | giridih\n",
      "City not found. Skipping...\n",
      "Processing Record 11 of Set 2 | karratha\n",
      "City not found. Skipping...\n",
      "Processing Record 12 of Set 2 | ilulissat\n",
      "City not found. Skipping...\n",
      "Processing Record 13 of Set 2 | iqaluit\n",
      "City not found. Skipping...\n",
      "Processing Record 14 of Set 2 | sao jose de ribamar\n",
      "City not found. Skipping...\n",
      "Processing Record 15 of Set 2 | chonchi\n",
      "City not found. Skipping...\n",
      "Processing Record 16 of Set 2 | whitehorse\n",
      "City not found. Skipping...\n",
      "Processing Record 17 of Set 2 | crucecita\n",
      "City not found. Skipping...\n",
      "Processing Record 18 of Set 2 | port blair\n",
      "City not found. Skipping...\n",
      "Processing Record 19 of Set 2 | tchintabaraden\n",
      "City not found. Skipping...\n",
      "Processing Record 20 of Set 2 | kosciuszko national park\n",
      "City not found. Skipping...\n",
      "Processing Record 21 of Set 2 | malango\n",
      "City not found. Skipping...\n",
      "Processing Record 22 of Set 2 | weno\n",
      "City not found. Skipping...\n",
      "Processing Record 23 of Set 2 | celestun\n",
      "City not found. Skipping...\n",
      "Processing Record 24 of Set 2 | olonkinbyen\n",
      "City not found. Skipping...\n",
      "Processing Record 25 of Set 2 | kenai\n",
      "City not found. Skipping...\n",
      "Processing Record 26 of Set 2 | bhamo\n",
      "City not found. Skipping...\n",
      "Processing Record 27 of Set 2 | nemuro\n",
      "City not found. Skipping...\n",
      "Processing Record 28 of Set 2 | hamilton\n",
      "City not found. Skipping...\n",
      "Processing Record 29 of Set 2 | 'ajab shir\n",
      "City not found. Skipping...\n",
      "Processing Record 30 of Set 2 | tobi village\n",
      "City not found. Skipping...\n",
      "Processing Record 31 of Set 2 | qaqortoq\n",
      "City not found. Skipping...\n",
      "Processing Record 32 of Set 2 | invercargill\n",
      "City not found. Skipping...\n",
      "Processing Record 33 of Set 2 | xylofagou\n",
      "City not found. Skipping...\n",
      "Processing Record 34 of Set 2 | isangel\n",
      "City not found. Skipping...\n",
      "Processing Record 35 of Set 2 | qal'at bishah\n",
      "City not found. Skipping...\n",
      "Processing Record 36 of Set 2 | longyearbyen\n",
      "City not found. Skipping...\n",
      "Processing Record 37 of Set 2 | masterton\n",
      "City not found. Skipping...\n",
      "Processing Record 38 of Set 2 | wailua homesteads\n",
      "City not found. Skipping...\n",
      "Processing Record 39 of Set 2 | tsiombe\n",
      "City not found. Skipping...\n",
      "Processing Record 40 of Set 2 | brookings\n",
      "City not found. Skipping...\n",
      "Processing Record 41 of Set 2 | shakawe\n",
      "City not found. Skipping...\n",
      "Processing Record 42 of Set 2 | howrah\n",
      "City not found. Skipping...\n",
      "Processing Record 43 of Set 2 | loa janan\n",
      "City not found. Skipping...\n",
      "Processing Record 44 of Set 2 | egilsstadir\n",
      "City not found. Skipping...\n",
      "Processing Record 45 of Set 2 | alamogordo\n",
      "City not found. Skipping...\n",
      "Processing Record 46 of Set 2 | bubaque\n",
      "City not found. Skipping...\n",
      "Processing Record 47 of Set 2 | isafjordur\n",
      "City not found. Skipping...\n",
      "Processing Record 48 of Set 2 | camana\n",
      "City not found. Skipping...\n",
      "Processing Record 49 of Set 2 | zabol\n",
      "City not found. Skipping...\n",
      "Processing Record 0 of Set 3 | bridgewater\n",
      "City not found. Skipping...\n",
      "Processing Record 1 of Set 3 | ishimbay\n",
      "City not found. Skipping...\n",
      "Processing Record 2 of Set 3 | ust-nera\n",
      "City not found. Skipping...\n",
      "Processing Record 3 of Set 3 | fada\n",
      "City not found. Skipping...\n",
      "Processing Record 4 of Set 3 | awjilah\n",
      "City not found. Skipping...\n",
      "Processing Record 5 of Set 3 | gavrilov posad\n",
      "City not found. Skipping...\n",
      "Processing Record 6 of Set 3 | ferkessedougou\n",
      "City not found. Skipping...\n",
      "Processing Record 7 of Set 3 | socorro\n",
      "City not found. Skipping...\n",
      "Processing Record 8 of Set 3 | vingt cinq\n",
      "City not found. Skipping...\n",
      "Processing Record 9 of Set 3 | klyuchi\n",
      "City not found. Skipping...\n",
      "Processing Record 10 of Set 3 | jiayuguan\n",
      "City not found. Skipping...\n",
      "Processing Record 11 of Set 3 | vorkuta\n",
      "City not found. Skipping...\n",
      "Processing Record 12 of Set 3 | grants\n",
      "City not found. Skipping...\n",
      "Processing Record 13 of Set 3 | ribeira grande\n",
      "City not found. Skipping...\n",
      "Processing Record 14 of Set 3 | middletown\n",
      "City not found. Skipping...\n",
      "Processing Record 15 of Set 3 | al burayqah\n",
      "City not found. Skipping...\n",
      "Processing Record 16 of Set 3 | nyurba\n",
      "City not found. Skipping...\n",
      "Processing Record 17 of Set 3 | coruripe\n",
      "City not found. Skipping...\n",
      "Processing Record 18 of Set 3 | albemarle\n",
      "City not found. Skipping...\n",
      "Processing Record 19 of Set 3 | port elizabeth\n",
      "City not found. Skipping...\n",
      "Processing Record 20 of Set 3 | razole\n",
      "City not found. Skipping...\n",
      "Processing Record 21 of Set 3 | yulinshi\n",
      "City not found. Skipping...\n",
      "Processing Record 22 of Set 3 | vorgashor\n",
      "City not found. Skipping...\n",
      "Processing Record 23 of Set 3 | arraial do cabo\n",
      "City not found. Skipping...\n",
      "Processing Record 24 of Set 3 | khandud\n",
      "City not found. Skipping...\n",
      "Processing Record 25 of Set 3 | choctaw\n",
      "City not found. Skipping...\n",
      "Processing Record 26 of Set 3 | thompson\n",
      "City not found. Skipping...\n",
      "Processing Record 27 of Set 3 | ust'-ilimsk\n",
      "City not found. Skipping...\n",
      "Processing Record 28 of Set 3 | belmonte\n",
      "City not found. Skipping...\n",
      "Processing Record 29 of Set 3 | ichinohe\n",
      "City not found. Skipping...\n",
      "Processing Record 30 of Set 3 | jamestown\n",
      "City not found. Skipping...\n",
      "Processing Record 31 of Set 3 | 'ohonua\n",
      "City not found. Skipping...\n",
      "Processing Record 32 of Set 3 | salekhard\n",
      "City not found. Skipping...\n",
      "Processing Record 33 of Set 3 | rundu\n",
      "City not found. Skipping...\n",
      "Processing Record 34 of Set 3 | lebu\n",
      "City not found. Skipping...\n",
      "Processing Record 35 of Set 3 | eyl\n",
      "City not found. Skipping...\n",
      "Processing Record 36 of Set 3 | revda\n",
      "City not found. Skipping...\n",
      "Processing Record 37 of Set 3 | urzhar\n",
      "City not found. Skipping...\n",
      "Processing Record 38 of Set 3 | ta`u\n",
      "City not found. Skipping...\n",
      "Processing Record 39 of Set 3 | vadso\n",
      "City not found. Skipping...\n",
      "Processing Record 40 of Set 3 | fale old settlement\n",
      "City not found. Skipping...\n",
      "Processing Record 41 of Set 3 | ugoofaaru\n",
      "City not found. Skipping...\n",
      "Processing Record 42 of Set 3 | limon\n",
      "City not found. Skipping...\n",
      "Processing Record 43 of Set 3 | punta arenas\n",
      "City not found. Skipping...\n",
      "Processing Record 44 of Set 3 | ketchikan\n",
      "City not found. Skipping...\n",
      "Processing Record 45 of Set 3 | mulayjah\n",
      "City not found. Skipping...\n",
      "Processing Record 46 of Set 3 | kone\n",
      "City not found. Skipping...\n",
      "Processing Record 47 of Set 3 | nova sintra\n",
      "City not found. Skipping...\n",
      "Processing Record 48 of Set 3 | ovalle\n",
      "City not found. Skipping...\n",
      "Processing Record 49 of Set 3 | shangzhi\n",
      "City not found. Skipping...\n",
      "Processing Record 0 of Set 4 | mejit\n",
      "City not found. Skipping...\n",
      "Processing Record 1 of Set 4 | luganville\n",
      "City not found. Skipping...\n",
      "Processing Record 2 of Set 4 | vila franca do campo\n",
      "City not found. Skipping...\n",
      "Processing Record 3 of Set 4 | carmel\n",
      "City not found. Skipping...\n",
      "Processing Record 4 of Set 4 | sumbe\n",
      "City not found. Skipping...\n",
      "Processing Record 5 of Set 4 | yeraliyev\n",
      "City not found. Skipping...\n",
      "Processing Record 6 of Set 4 | buulobarde\n",
      "City not found. Skipping...\n",
      "Processing Record 7 of Set 4 | soligalich\n",
      "City not found. Skipping...\n",
      "Processing Record 8 of Set 4 | broken hill\n",
      "City not found. Skipping...\n",
      "Processing Record 9 of Set 4 | aykhal\n",
      "City not found. Skipping...\n"
     ]
    }
   ],
   "source": [
    "# Set the API base URL\n",
    "url = \"http://api.openweathermap.org/data/2.5/\"\n",
    "\n",
    "# Define an empty list to fetch the weather data for each city\n",
    "city_data = []\n",
    "\n",
    "# Print to logger\n",
    "print(\"Beginning Data Retrieval     \")\n",
    "print(\"-----------------------------\")\n",
    "\n",
    "# Create counters\n",
    "record_count = 1\n",
    "set_count = 1\n",
    "\n",
    "# Loop through all the cities in our list to fetch weather data\n",
    "for i, city in enumerate(cities):\n",
    "\n",
    "    # Group cities in sets of 50 for logging purposes\n",
    "    if (i % 50 == 0 and i >= 50):\n",
    "        set_count += 1\n",
    "        record_count = 0\n",
    "\n",
    "    # Create endpoint URL with each city\n",
    "    city_url = f\"{url}?q={city}&appid={weather_api_key}&units=metric\"\n",
    "\n",
    "    # Log the url, record, and set numbers\n",
    "    print(\"Processing Record %s of Set %s | %s\" % (record_count, set_count, city))\n",
    "\n",
    "    # Add 1 to the record count\n",
    "    record_count += 1\n",
    "\n",
    "    # Run an API request for each of the cities\n",
    "    try:\n",
    "        # Parse the JSON and retrieve data\n",
    "        city_weather = requests.get(city_url).json()\n",
    "\n",
    "        # Parse out latitude, longitude, max temp, humidity, cloudiness, wind speed, country, and date\n",
    "        city_lat = city_weather[\"coord\"][\"lat\"]\n",
    "        city_lng = city_weather[\"coord\"][\"lon\"]\n",
    "        city_max_temp = city_weather[\"main\"][\"temp\"]\n",
    "        city_humidity = city_weather[\"main\"][\"humidity\"]\n",
    "        city_clouds = city_weather[\"clouds\"][\"all\"]\n",
    "        city_wind = city_weather[\"wind\"][\"speed\"]\n",
    "        city_country = city_weather[\"sys\"][\"country\"]\n",
    "        city_date = city_weather[\"dt\"]\n",
    "\n",
    "        # Append the City information into city_data list\n",
    "        city_data.append({\"City\": city,\n",
    "                          \"Lat\": city_lat,\n",
    "                          \"Lng\": city_lng,\n",
    "                          \"Max Temp\": city_max_temp,\n",
    "                          \"Humidity\": city_humidity,\n",
    "                          \"Cloudiness\": city_clouds,\n",
    "                          \"Wind Speed\": city_wind,\n",
    "                          \"Country\": city_country,\n",
    "                          \"Date\": city_date})\n",
    "\n",
    "    # If an error is experienced, skip the city\n",
    "    except:\n",
    "        print(\"City not found. Skipping...\")\n",
    "        pass\n",
    "\n",
    "    # pause to avoid rate limiting\n",
    "    time.sleep(1)\n",
    "\n",
    "# Indicate that Data Loading is complete\n",
    "print(\"-----------------------------\")\n",
    "print(\"Data Retrieval Complete      \")\n",
    "print(\"-----------------------------\")"
   ]
  },
  {
   "cell_type": "code",
   "execution_count": 22,
   "metadata": {},
   "outputs": [
    {
     "data": {
      "text/plain": [
       "Series([], dtype: int64)"
      ]
     },
     "execution_count": 22,
     "metadata": {},
     "output_type": "execute_result"
    }
   ],
   "source": [
    "# Convert the cities weather data into a Pandas DataFrame\n",
    "city_data_df = pd.DataFrame(data = city_data)\n",
    "\n",
    "# Show Record Count\n",
    "city_data_df.count()"
   ]
  },
  {
   "cell_type": "code",
   "execution_count": 7,
   "metadata": {},
   "outputs": [
    {
     "data": {
      "text/html": [
       "<div>\n",
       "<style scoped>\n",
       "    .dataframe tbody tr th:only-of-type {\n",
       "        vertical-align: middle;\n",
       "    }\n",
       "\n",
       "    .dataframe tbody tr th {\n",
       "        vertical-align: top;\n",
       "    }\n",
       "\n",
       "    .dataframe thead th {\n",
       "        text-align: right;\n",
       "    }\n",
       "</style>\n",
       "<table border=\"1\" class=\"dataframe\">\n",
       "  <thead>\n",
       "    <tr style=\"text-align: right;\">\n",
       "      <th></th>\n",
       "    </tr>\n",
       "  </thead>\n",
       "  <tbody>\n",
       "  </tbody>\n",
       "</table>\n",
       "</div>"
      ],
      "text/plain": [
       "Empty DataFrame\n",
       "Columns: []\n",
       "Index: []"
      ]
     },
     "execution_count": 7,
     "metadata": {},
     "output_type": "execute_result"
    }
   ],
   "source": [
    "# Display sample data\n",
    "city_data_df.head()"
   ]
  },
  {
   "cell_type": "code",
   "execution_count": null,
   "metadata": {},
   "outputs": [],
   "source": [
    "# Export the City_Data into a csv\n",
    "city_data_df.to_csv(\"output_data/cities.csv\", index_label=\"City_ID\")"
   ]
  },
  {
   "cell_type": "code",
   "execution_count": null,
   "metadata": {},
   "outputs": [],
   "source": [
    "# Read saved data\n",
    "city_data_df = pd.read_csv(\"output_data/cities.csv\", index_col=\"City_ID\")\n",
    "\n",
    "# Display sample data\n",
    "city_data_df.head()"
   ]
  },
  {
   "cell_type": "markdown",
   "metadata": {},
   "source": [
    "### Create the Scatter Plots Requested\n",
    "\n",
    "#### Latitude Vs. Temperature"
   ]
  },
  {
   "cell_type": "code",
   "execution_count": null,
   "metadata": {
    "tags": []
   },
   "outputs": [],
   "source": [
    "# Build scatter plot for latitude vs. temperature\n",
    "plt.scatter(city_data_df['Lat'], \n",
    "            city_data_df['Max Temp'], \n",
    "            color='green', \n",
    "            marker='o', \n",
    "            edgecolors='black')\n",
    "\n",
    "# Incorporate the other graph properties\n",
    "plt.title('City Temperaturee vs. Max Latitude'),\n",
    "plt.xlabel('Latitude'),\n",
    "plt.ylabel('Max Temp (C)')\n",
    "\n",
    "# Save the figure\n",
    "plt.savefig(\"output_data/Fig1.png\")\n",
    "\n",
    "# Show plot\n",
    "plt.show()"
   ]
  },
  {
   "cell_type": "markdown",
   "metadata": {},
   "source": [
    "#### Latitude Vs. Humidity"
   ]
  },
  {
   "cell_type": "code",
   "execution_count": null,
   "metadata": {},
   "outputs": [],
   "source": [
    "# Build the scatter plots for latitude vs. humidity\n",
    "# YOUR CODE HERE\n",
    "\n",
    "# Incorporate the other graph properties\n",
    "# YOUR CODE HERE\n",
    "\n",
    "# Save the figure\n",
    "plt.savefig(\"output_data/Fig2.png\")\n",
    "\n",
    "# Show plot\n",
    "plt.show()"
   ]
  },
  {
   "cell_type": "markdown",
   "metadata": {},
   "source": [
    "#### Latitude Vs. Cloudiness"
   ]
  },
  {
   "cell_type": "code",
   "execution_count": null,
   "metadata": {},
   "outputs": [],
   "source": [
    "# Build the scatter plots for latitude vs. cloudiness\n",
    "# YOUR CODE HERE\n",
    "\n",
    "# Incorporate the other graph properties\n",
    "# YOUR CODE HERE\n",
    "\n",
    "# Save the figure\n",
    "plt.savefig(\"output_data/Fig3.png\")\n",
    "\n",
    "# Show plot\n",
    "plt.show()"
   ]
  },
  {
   "cell_type": "markdown",
   "metadata": {},
   "source": [
    "#### Latitude vs. Wind Speed Plot"
   ]
  },
  {
   "cell_type": "code",
   "execution_count": null,
   "metadata": {},
   "outputs": [],
   "source": [
    "# Build the scatter plots for latitude vs. wind speed\n",
    "# YOUR CODE HERE\n",
    "\n",
    "# Incorporate the other graph properties\n",
    "# YOUR CODE HERE\n",
    "\n",
    "# Save the figure\n",
    "plt.savefig(\"output_data/Fig4.png\")\n",
    "\n",
    "# Show plot\n",
    "plt.show()"
   ]
  },
  {
   "cell_type": "markdown",
   "metadata": {},
   "source": [
    "---\n",
    "\n",
    "## Requirement 2: Compute Linear Regression for Each Relationship\n"
   ]
  },
  {
   "cell_type": "code",
   "execution_count": null,
   "metadata": {},
   "outputs": [],
   "source": [
    "# Define a function to create Linear Regression plots\n",
    "# YOUR CODE HERE"
   ]
  },
  {
   "cell_type": "code",
   "execution_count": null,
   "metadata": {},
   "outputs": [],
   "source": [
    "# Create a DataFrame with the Northern Hemisphere data (Latitude >= 0)\n",
    "# YOUR CODE HERE\n",
    "\n",
    "# Display sample data\n",
    "northern_hemi_df.head()"
   ]
  },
  {
   "cell_type": "code",
   "execution_count": null,
   "metadata": {},
   "outputs": [],
   "source": [
    "# Create a DataFrame with the Southern Hemisphere data (Latitude < 0)\n",
    "# YOUR CODE HERE\n",
    "\n",
    "# Display sample data\n",
    "southern_hemi_df.head()"
   ]
  },
  {
   "cell_type": "markdown",
   "metadata": {},
   "source": [
    "###  Temperature vs. Latitude Linear Regression Plot"
   ]
  },
  {
   "cell_type": "code",
   "execution_count": null,
   "metadata": {},
   "outputs": [],
   "source": [
    "# Linear regression on Northern Hemisphere\n",
    "# YOUR CODE HERE"
   ]
  },
  {
   "cell_type": "code",
   "execution_count": null,
   "metadata": {},
   "outputs": [],
   "source": [
    "# Linear regression on Southern Hemisphere\n",
    "# YOUR CODE HERE"
   ]
  },
  {
   "cell_type": "markdown",
   "metadata": {},
   "source": [
    "**Discussion about the linear relationship:** YOUR RESPONSE HERE"
   ]
  },
  {
   "cell_type": "markdown",
   "metadata": {},
   "source": [
    "### Humidity vs. Latitude Linear Regression Plot"
   ]
  },
  {
   "cell_type": "code",
   "execution_count": null,
   "metadata": {},
   "outputs": [],
   "source": [
    "# Northern Hemisphere\n",
    "# YOUR CODE HERE"
   ]
  },
  {
   "cell_type": "code",
   "execution_count": null,
   "metadata": {},
   "outputs": [],
   "source": [
    "# Southern Hemisphere\n",
    "# YOUR CODE HERE"
   ]
  },
  {
   "cell_type": "markdown",
   "metadata": {},
   "source": [
    "**Discussion about the linear relationship:** YOUR RESPONSE HERE"
   ]
  },
  {
   "cell_type": "markdown",
   "metadata": {},
   "source": [
    "### Cloudiness vs. Latitude Linear Regression Plot"
   ]
  },
  {
   "cell_type": "code",
   "execution_count": null,
   "metadata": {},
   "outputs": [],
   "source": [
    "# Northern Hemisphere\n",
    "# YOUR CODE HERE"
   ]
  },
  {
   "cell_type": "code",
   "execution_count": null,
   "metadata": {},
   "outputs": [],
   "source": [
    "# Southern Hemisphere\n",
    "# YOUR CODE HERE"
   ]
  },
  {
   "cell_type": "markdown",
   "metadata": {},
   "source": [
    "**Discussion about the linear relationship:** YOUR RESPONSE HERE"
   ]
  },
  {
   "cell_type": "markdown",
   "metadata": {},
   "source": [
    "### Wind Speed vs. Latitude Linear Regression Plot"
   ]
  },
  {
   "cell_type": "code",
   "execution_count": null,
   "metadata": {},
   "outputs": [],
   "source": [
    "# Northern Hemisphere\n",
    "# YOUR CODE HERE"
   ]
  },
  {
   "cell_type": "code",
   "execution_count": null,
   "metadata": {},
   "outputs": [],
   "source": [
    "# Southern Hemisphere\n",
    "# YOUR CODE HERE"
   ]
  },
  {
   "cell_type": "markdown",
   "metadata": {},
   "source": [
    "**Discussion about the linear relationship:** YOUR RESPONSE HERE"
   ]
  },
  {
   "cell_type": "code",
   "execution_count": null,
   "metadata": {},
   "outputs": [],
   "source": []
  }
 ],
 "metadata": {
  "anaconda-cloud": {},
  "kernel_info": {
   "name": "python3"
  },
  "kernelspec": {
   "display_name": "Python 3 (ipykernel)",
   "language": "python",
   "name": "python3"
  },
  "language_info": {
   "codemirror_mode": {
    "name": "ipython",
    "version": 3
   },
   "file_extension": ".py",
   "mimetype": "text/x-python",
   "name": "python",
   "nbconvert_exporter": "python",
   "pygments_lexer": "ipython3",
   "version": "3.10.14"
  },
  "latex_envs": {
   "LaTeX_envs_menu_present": true,
   "autoclose": false,
   "autocomplete": true,
   "bibliofile": "biblio.bib",
   "cite_by": "apalike",
   "current_citInitial": 1,
   "eqLabelWithNumbers": true,
   "eqNumInitial": 1,
   "hotkeys": {
    "equation": "Ctrl-E",
    "itemize": "Ctrl-I"
   },
   "labels_anchors": false,
   "latex_user_defs": false,
   "report_style_numbering": false,
   "user_envs_cfg": false
  },
  "nteract": {
   "version": "0.12.3"
  }
 },
 "nbformat": 4,
 "nbformat_minor": 4
}
